{
 "cells": [
  {
   "cell_type": "markdown",
   "id": "8f13e7b2",
   "metadata": {},
   "source": [
    "## Install necessary packages"
   ]
  },
  {
   "cell_type": "code",
   "execution_count": null,
   "id": "feffbefc",
   "metadata": {},
   "outputs": [],
   "source": [
    "!pip install -U d2l"
   ]
  },
  {
   "cell_type": "markdown",
   "id": "a5ae072e",
   "metadata": {},
   "source": [
    "## Clone the Git resository"
   ]
  },
  {
   "cell_type": "code",
   "execution_count": null,
   "id": "8bd09c09",
   "metadata": {},
   "outputs": [],
   "source": [
    "!git clone -l -s https://github.com/awikner/awikner.github.io.git cloned-repo\n",
    "%cd cloned-repo\n",
    "%cd _src"
   ]
  },
  {
   "cell_type": "markdown",
   "id": "c1f1ceeb",
   "metadata": {},
   "source": [
    "## Import reservoir functions"
   ]
  },
  {
   "cell_type": "code",
   "execution_count": null,
   "id": "8e7f973b",
   "metadata": {},
   "outputs": [],
   "source": [
    "from tensorflow_reservoir import *"
   ]
  },
  {
   "cell_type": "markdown",
   "id": "61733195",
   "metadata": {},
   "source": [
    "## Generate reservoir, training data and validation data"
   ]
  },
  {
   "cell_type": "code",
   "execution_count": null,
   "id": "438e1f82",
   "metadata": {},
   "outputs": [],
   "source": [
    "num_nodes, num_steps, num_inputs, batch_size = 100, 1, 3, 256\n",
    "sync_len = 50\n",
    "num_tests = 50\n",
    "out_reg = 1e-6\n",
    "leakage = 1.0\n",
    "spectral_radius = 0.5\n",
    "input_weight = 1.0\n",
    "seed = 10\n",
    "train_samples, test_samples, transient = 1000, 100, 150\n",
    "Res = Reservoir(num_inputs, num_nodes, num_steps = num_steps, dtype = tf.float64, \\\n",
    "                input_weight = input_weight, out_reg = out_reg, spectral_radius = spectral_radius,\\\n",
    "                leakage = leakage)\n",
    "u_train, u_test = generate_lorenz_data(num_steps, train_samples = train_samples,\\\n",
    "                                       test_samples = test_samples, sync_len = sync_len,\\\n",
    "                                      num_tests = num_tests, transient = transient, data_seed = seed)\n",
    "#u_train += 5e-3*(np.random.rand(u_train.shape[0], u_train.shape[1])*2-1)\n",
    "train_iter, test_iter = get_features_targets(Res, u_train, u_test, batch_size, sync_len = sync_len)\n",
    "loss = tf.keras.losses.MeanSquaredError()\n",
    "trainer = tf.keras.optimizers.Adam(learning_rate = 1e-3)\n",
    "num_epochs = 3000"
   ]
  },
  {
   "cell_type": "markdown",
   "id": "c6483583",
   "metadata": {},
   "source": [
    "## Train the reservoir"
   ]
  },
  {
   "cell_type": "code",
   "execution_count": null,
   "id": "be0e9043",
   "metadata": {},
   "outputs": [],
   "source": [
    "train_reservoir_lorenz(Res, train_iter, test_iter, loss, num_epochs, trainer, ylim = [1e-4,1e2])"
   ]
  }
 ],
 "metadata": {
  "kernelspec": {
   "display_name": "Python 3 (ipykernel)",
   "language": "python",
   "name": "python3"
  },
  "language_info": {
   "codemirror_mode": {
    "name": "ipython",
    "version": 3
   },
   "file_extension": ".py",
   "mimetype": "text/x-python",
   "name": "python",
   "nbconvert_exporter": "python",
   "pygments_lexer": "ipython3",
   "version": "3.8.12"
  }
 },
 "nbformat": 4,
 "nbformat_minor": 5
}
